{
 "cells": [
  {
   "cell_type": "code",
   "execution_count": 3,
   "metadata": {},
   "outputs": [
    {
     "name": "stdout",
     "output_type": "stream",
     "text": [
      "Enter the radius of the circle 5\n",
      "Area of the circle with radius 5 is 78.53975\n"
     ]
    }
   ],
   "source": [
    "pi=3.14159\n",
    "r=input(\"Enter the radius of the circle \")\n",
    "a=pi*float(r)**2\n",
    "print(\"Area of the circle with radius\",r,\"is\",a)"
   ]
  },
  {
   "cell_type": "code",
   "execution_count": 5,
   "metadata": {},
   "outputs": [
    {
     "name": "stdout",
     "output_type": "stream",
     "text": [
      "Enter the filename abc.java\n",
      "Extension of the given file name abc.java is java\n"
     ]
    }
   ],
   "source": [
    "fname=input(\"Enter the filename \")\n",
    "f=fname.split(\".\")\n",
    "print(\"Extension of the given file name\",fname,\"is\",f[-1])"
   ]
  },
  {
   "cell_type": "code",
   "execution_count": 6,
   "metadata": {},
   "outputs": [
    {
     "name": "stdout",
     "output_type": "stream",
     "text": [
      "Enter the filename abc.py\n",
      "Extension of the given file name abc.py is py\n"
     ]
    }
   ],
   "source": [
    "fname=input(\"Enter the filename \")\n",
    "f=fname.split(\".\")\n",
    "print(\"Extension of the given file name\",fname,\"is\",f[-1])"
   ]
  },
  {
   "cell_type": "code",
   "execution_count": null,
   "metadata": {},
   "outputs": [],
   "source": []
  }
 ],
 "metadata": {
  "kernelspec": {
   "display_name": "Python 3",
   "language": "python",
   "name": "python3"
  },
  "language_info": {
   "codemirror_mode": {
    "name": "ipython",
    "version": 3
   },
   "file_extension": ".py",
   "mimetype": "text/x-python",
   "name": "python",
   "nbconvert_exporter": "python",
   "pygments_lexer": "ipython3",
   "version": "3.7.6"
  }
 },
 "nbformat": 4,
 "nbformat_minor": 4
}
